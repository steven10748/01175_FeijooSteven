{
 "cells": [
  {
   "cell_type": "code",
   "execution_count": 1,
   "metadata": {},
   "outputs": [
    {
     "name": "stdout",
     "output_type": "stream",
     "text": [
      "Vamos a calcular el valor absoluto de un número\n",
      "Ingrese un número: -1234\n",
      "El valor absoluto de este número es:  1234.0\n",
      "Vamos a calcular el valor absoluto de un número\n",
      "Ingrese un número:      Ingrese 0 para salir.   0\n"
     ]
    }
   ],
   "source": [
    "print(\"Vamos a calcular el valor absoluto de un número\")\n",
    "Numero=float(input(\"Ingrese un número: \"))\n",
    "if Numero < 0:\n",
    "    print(\"El valor absoluto de este número es: \",Numero*-1)\n",
    "else:\n",
    "    print(\"El valor absoluto de este número es: \",Numero)\n",
    "while True:\n",
    "    print(\"Vamos a calcular el valor absoluto de un número\")\n",
    "    Numero=float(input(\"Ingrese un número:      Ingrese 0 para salir.   \"))\n",
    "    if Numero < 0:\n",
    "        print(\"El valor absoluto de este número es: \",Numero*-1)\n",
    "    elif Numero==0:\n",
    "        break\n",
    "    else:\n",
    "        print(\"El valor absoluto de este número es: \",Numero)"
   ]
  },
  {
   "cell_type": "code",
   "execution_count": 2,
   "metadata": {},
   "outputs": [
    {
     "name": "stdout",
     "output_type": "stream",
     "text": [
      "Determinar si la diferencia entre dos números enteros es un número primo\n",
      "Si desea salir escibra 'salir', de lo contrario digite  cualquier tecla: a\n",
      "Ingrese un número: 45\n",
      "Ingrese otro número: 134\n",
      "-89 La diferencia es primo\n",
      "Determinar si la diferencia entre dos números enteros es un número primo\n",
      "Si desea salir escibra 'salir', de lo contrario digite  cualquier tecla: salir\n",
      "Bye, bye.\n"
     ]
    }
   ],
   "source": [
    "def primo(Diferencia):\n",
    "    for i in range(2,Diferencia):\n",
    "        if (Diferencia%i)==0:\n",
    "            return False\n",
    "    return True\n",
    "while True:\n",
    "    print(\"Determinar si la diferencia entre dos números enteros es un número primo\")\n",
    "    Salir=input(\"Si desea salir escibra 'salir', de lo contrario digite  cualquier tecla: \")\n",
    "    if Salir.lower()==\"salir\":\n",
    "      print(\"Bye, bye.\")\n",
    "      break\n",
    "    Numero1=int(input(\"Ingrese un número: \"))\n",
    "    Numero2=int(input(\"Ingrese otro número: \"))\n",
    "    Diferencia=Numero1-Numero2\n",
    "    if primo(Diferencia):\n",
    "        print(Diferencia, \"La diferencia es primo\")\n",
    "    else:\n",
    "        print(Diferencia, \"La diferencia NO es primo\")"
   ]
  },
  {
   "cell_type": "code",
   "execution_count": 4,
   "metadata": {},
   "outputs": [
    {
     "name": "stdout",
     "output_type": "stream",
     "text": [
      "Los multiplos de 3 son: \n"
     ]
    },
    {
     "data": {
      "text/plain": [
       "(None,\n",
       " [3,\n",
       "  6,\n",
       "  9,\n",
       "  12,\n",
       "  15,\n",
       "  18,\n",
       "  21,\n",
       "  24,\n",
       "  27,\n",
       "  30,\n",
       "  33,\n",
       "  36,\n",
       "  39,\n",
       "  42,\n",
       "  45,\n",
       "  48,\n",
       "  51,\n",
       "  54,\n",
       "  57,\n",
       "  60,\n",
       "  63,\n",
       "  66,\n",
       "  69,\n",
       "  72,\n",
       "  75,\n",
       "  78,\n",
       "  81,\n",
       "  84,\n",
       "  87,\n",
       "  90,\n",
       "  93,\n",
       "  96,\n",
       "  99])"
      ]
     },
     "execution_count": 4,
     "metadata": {},
     "output_type": "execute_result"
    }
   ],
   "source": [
    "def multiplo(valor, multiplo):\n",
    "    resto = valor % multiplo\n",
    "    if resto == 0:\n",
    "        return True\n",
    "    else:\n",
    "        return False\n",
    "multiplos_3=[]\n",
    " \n",
    "for i in range(1,101):\n",
    " \n",
    "    if multiplo(i,3):\n",
    "        multiplos_3.append(i)\n",
    "\n",
    "print (\"Los multiplos de 3 son: \"), multiplos_3\n",
    "\n",
    "#Se hizo en dos celdas puesto que en una sola solo arrojaba una de las listas\n"
   ]
  },
  {
   "cell_type": "code",
   "execution_count": 5,
   "metadata": {},
   "outputs": [
    {
     "name": "stdout",
     "output_type": "stream",
     "text": [
      "Los multiplos de 4 son: [4, 8, 12, 16, 20, 24, 28, 32, 36, 40, 44, 48, 52, 56, 60, 64, 68, 72, 76, 80, 84, 88, 92, 96, 100]\n"
     ]
    }
   ],
   "source": [
    "def multiplo(valor, multiplo):\n",
    "    resto = valor % multiplo\n",
    "    if resto == 0:\n",
    "        return True\n",
    "    else:\n",
    "        return False\n",
    "multiplos_4=[]\n",
    "\n",
    "for i in range(1,101): \n",
    "    if multiplo(i,4):\n",
    "        multiplos_4.append(i)\n",
    "print(\"Los multiplos de 4 son:\", multiplos_4)"
   ]
  },
  {
   "cell_type": "code",
   "execution_count": 6,
   "metadata": {},
   "outputs": [
    {
     "name": "stdout",
     "output_type": "stream",
     "text": [
      "X1= 2\n",
      "y= 6\n",
      "r1= 7\n",
      "X2= 2\n",
      "y2= 3\n",
      "r2= 6\n",
      "a= 1\n",
      "b= 2\n",
      "en ambos circulos\n"
     ]
    }
   ],
   "source": [
    "x1=float(input(\"X1= \"))\n",
    "y1=float(input(\"y= \"))\n",
    "r1=float(input(\"r1= \"))\n",
    "# circulo 2\n",
    "x2=float(input(\"X2= \"))\n",
    "y2=float(input(\"y2= \"))\n",
    "r2=float(input(\"r2= \"))\n",
    "\n",
    "#coordenadas punto\n",
    "a=float(input(\"a= \"))\n",
    "b=float(input(\"b= \"))\n",
    "\n",
    "#formula distancia entre puntos\n",
    "  #distancia entre el centro del circulo 1 y el punto\n",
    "d1=(((x1-a)**2)+((y1-b)**2))**(1/2)\n",
    "  #distancia entre el centro del circulo 2 y el punto\n",
    "d2=(((x2-a)**2)+((y2-b)**2))**(1/2)\n",
    "\n",
    "#verificación\n",
    "if d1<=r1:\n",
    "    if d1<=r1 and d2<=r2:\n",
    "        print(\"en ambos circulos\")\n",
    "    else:\n",
    "        print(\"dentro del circulo 1\")\n",
    "elif d2<=r2:\n",
    "    print(\"dentro del circulo 2\")\n",
    "else:\n",
    "    print(\"en ningun circulo\")"
   ]
  },
  {
   "cell_type": "code",
   "execution_count": 7,
   "metadata": {},
   "outputs": [
    {
     "name": "stdout",
     "output_type": "stream",
     "text": [
      "Ingrese cualquier cosa: universidad\n",
      "Mayúsculas:  0\n",
      "Minúsculas:  11\n",
      "Dígitos:  0\n",
      "Espacios:  0\n",
      "Mayúsculas vocales:  0\n",
      "Minúsculas vocales:  5\n",
      "Mayúsculas con tilde:  0\n",
      "Minúsculas con tilde:  0\n"
     ]
    }
   ],
   "source": [
    "texto=input(\"Ingrese cualquier cosa: \")\n",
    "mayusculas = len([c for c in texto if c.isupper()])\n",
    "minusculas = len([c for c in texto if c.islower()])\n",
    "numeros = len([c for c in texto if c.isdigit()])\n",
    "espacios = len([c for c in texto if c==\" \"])\n",
    "MayusculasVocales=len([c for c in texto if c in(\"A\", \"E\", \"I\", \"O\", \"U\", \"Á\", \"É\", \"Í\", \"Ó\", \"Ú\")])\n",
    "MinusculasVocales=len([c for c in texto if c in(\"a\", \"e\", \"i\", \"o\", \"u\", \"á\", \"é\", \"í\", \"ó\", \"ú\")])\n",
    "MayusculasTilde=len([c for c in texto if c in (\"Á\", \"É\", \"Í\", \"Ó\", \"Ú\")])\n",
    "MinusculasTilde=len([c for c in texto if c in(\"á\", \"é\", \"í\", \"ó\", \"ú\")])\n",
    "print(\"Mayúsculas: \",mayusculas)\n",
    "print(\"Minúsculas: \",minusculas)\n",
    "print(\"Dígitos: \",numeros)\n",
    "print(\"Espacios: \",espacios)\n",
    "print(\"Mayúsculas vocales: \",MayusculasVocales)\n",
    "print(\"Minúsculas vocales: \",MinusculasVocales)\n",
    "print(\"Mayúsculas con tilde: \",MayusculasTilde)\n",
    "print(\"Minúsculas con tilde: \",MinusculasTilde)"
   ]
  },
  {
   "cell_type": "code",
   "execution_count": 8,
   "metadata": {},
   "outputs": [
    {
     "name": "stdout",
     "output_type": "stream",
     "text": [
      "Vamos a ordenar una palabra u oración alfabéticamente: \n",
      "Ingrese una cadena: nacional\n",
      "aacilnno\n"
     ]
    }
   ],
   "source": [
    "print(\"Vamos a ordenar una palabra u oración alfabéticamente: \")\n",
    "palabra = str(input(\"Ingrese una cadena: \"))\n",
    "palabraOrdenada=''.join(sorted(palabra)).strip()\n",
    "print(palabraOrdenada)"
   ]
  },
  {
   "cell_type": "code",
   "execution_count": 9,
   "metadata": {},
   "outputs": [
    {
     "name": "stdout",
     "output_type": "stream",
     "text": [
      "Ingrese el numero de elementos de la lista: 3\n",
      "Elemento 1: 3\n",
      "Elemento 2: 6\n",
      "Elemento 3: 9\n",
      "[3, 6, 9]\n",
      "La lista de números esta ordenada ascendentemente\n",
      "Ingrese un numero: 4\n",
      "[3, 4, 6, 9]\n"
     ]
    }
   ],
   "source": [
    "def leerLista(lista):\n",
    "  tam = int(input(\"Ingrese el numero de elementos de la lista: \"))\n",
    "  for i in range(tam):\n",
    "    num = int(input(\"Elemento \"+str(i+1)+\": \"))\n",
    "    lista.append(num)\n",
    "\n",
    "def ordenAscendente(lista):\n",
    "  for i in range(len(lista)-1):\n",
    "    if lista[i] > lista[i+1]:\n",
    "      return False\n",
    "  return True\n",
    "\n",
    "def ingresarNumero(lista,n):\n",
    "  if(n>=lista[len(lista)-1]):\n",
    "      lista.append(n)\n",
    "      return\n",
    "  for i in range(len(lista)):\n",
    "    if n < lista[i]:\n",
    "      lista.insert(i,n)\n",
    "      return\n",
    "lista1=[]\n",
    "leerLista(lista1)\n",
    "valor=ordenAscendente(lista1)\n",
    "\n",
    "print(lista1)\n",
    "\n",
    "if(valor):\n",
    "  print(\"La lista de números esta ordenada ascendentemente\")\n",
    "else:\n",
    "  print(\"La lista de números no esta ordenada ascendentemente\")\n",
    "\n",
    "numero = int(input(\"Ingrese un numero: \"))\n",
    "\n",
    "ingresarNumero(lista1,numero)\n",
    "\n",
    "print(lista1)"
   ]
  },
  {
   "cell_type": "code",
   "execution_count": 11,
   "metadata": {},
   "outputs": [
    {
     "name": "stdout",
     "output_type": "stream",
     "text": [
      "Ingrese el numero de elementos de la lista: 3\n",
      "Elemento 1: 12\n",
      "Elemento 2: 3\n",
      "Elemento 3: 45\n",
      "El segundo número mayor de la lista es  12\n"
     ]
    }
   ],
   "source": [
    "def segundoMayor(lista):\n",
    "  \n",
    "  if(len(lista)>1):\n",
    "    pMayor=lista[0]\n",
    "    sMayor=lista[0]\n",
    "\n",
    "    for i in range(len(lista)):\n",
    "      if(lista[i]>pMayor):\n",
    "        sMayor=pMayor\n",
    "        pMayor=lista[i]\n",
    "      if(lista[i]!=pMayor):\n",
    "        if(lista[i]>sMayor):\n",
    "          sMayor=lista[i]\n",
    "    if(pMayor!=sMayor):\n",
    "      return True, sMayor\n",
    "    else:\n",
    "      return False,-1  \n",
    "  else:\n",
    "    return False,-1\n",
    "lista2=[]\n",
    "leerLista(lista2)\n",
    "\n",
    "flag,sMayor=segundoMayor(lista2)\n",
    "\n",
    "if(flag):\n",
    "  print(\"El segundo número mayor de la lista es \",sMayor)\n",
    "else:\n",
    "  print(\"No hay un segundo número mayor en la lista\")"
   ]
  },
  {
   "cell_type": "raw",
   "metadata": {},
   "source": []
  },
  {
   "cell_type": "code",
   "execution_count": 12,
   "metadata": {},
   "outputs": [
    {
     "name": "stdout",
     "output_type": "stream",
     "text": [
      "Ingrese el valor de U(0): 45\n",
      "Cantidad de términos a calcular: 5\n",
      "[45, 136, 68.0, 34.0, 17.0]\n"
     ]
    }
   ],
   "source": [
    "def sucesionU(u,cant):\n",
    "  suce=[]\n",
    "  suce.append(u)\n",
    "  for i in range(cant-1):\n",
    "    if(suce[i]%2==0):\n",
    "      suce.append(suce[i]/2)\n",
    "    else:\n",
    "      suce.append(3*suce[i]+1)\n",
    "  return suce\n",
    "\n",
    "u = int(input(\"Ingrese el valor de U(0): \"))\n",
    "cant = int(input(\"Cantidad de términos a calcular: \"))\n",
    "print(sucesionU(u,cant))"
   ]
  },
  {
   "cell_type": "code",
   "execution_count": 13,
   "metadata": {},
   "outputs": [
    {
     "name": "stdout",
     "output_type": "stream",
     "text": [
      "Filas: 4\n",
      "Columnas: 5\n",
      "[0,0]: 59\n",
      "[0,1]: 99\n",
      "[0,2]: 95\n",
      "[0,3]: 12\n",
      "[0,4]: 88\n",
      "[1,0]: 63\n",
      "[1,1]: 32\n",
      "[1,2]: 49\n",
      "[1,3]: 4\n",
      "[1,4]: 73\n",
      "[2,0]: 40\n",
      "[2,1]: 28\n",
      "[2,2]: 62\n",
      "[2,3]: 78\n",
      "[2,4]: 6\n",
      "[3,0]: 45\n",
      "[3,1]: 63\n",
      "[3,2]: 51\n",
      "[3,3]: 85\n",
      "[3,4]: 26\n",
      "\n",
      "59 99 95 12 88 \n",
      "63 32 49 4 73 \n",
      "40 28 62 78 6 \n",
      "45 63 51 85 26 \n",
      "\n",
      "[26, 85, 51, 63, 45, 40, 63, 59, 99, 95, 12, 88, 73, 6, 78, 62, 28, 32, 49, 4]\n"
     ]
    }
   ],
   "source": [
    "def leerMatriz(f,c):\n",
    "  mat=[]\n",
    "\n",
    "  for i in range(f):\n",
    "    tem=[]\n",
    "    for j in range(c):\n",
    "      val= int(input(\"[\"+str(i)+\",\"+str(j)+\"]: \"))\n",
    "      tem.append(val)\n",
    "    mat.append(tem)\n",
    "\n",
    "  return mat \n",
    "def drawnMat(mat):\n",
    "  print()\n",
    "  for i in range(len(mat)):\n",
    "    for j in range(len(mat[0])):\n",
    "      print(mat[i][j],end=' ')\n",
    "    print()\n",
    "\n",
    "def desenvolverMat(mat):\n",
    "  print()\n",
    "\n",
    "\n",
    "  i=len(mat)-1\n",
    "  j=len(mat[0])-1\n",
    "\n",
    "  f=len(mat)\n",
    "  c=len(mat[0])\n",
    "  var=1\n",
    "\n",
    "  L=0\n",
    "  R=j\n",
    "  U=0\n",
    "  D=i-1\n",
    "\n",
    "  vec=[]\n",
    "\n",
    "  vec.append(mat[i][j])\n",
    "\n",
    "  while(len(vec)<f*c):\n",
    "    \n",
    "    if var==1:\n",
    "      if(j>L):\n",
    "        j=j-1\n",
    "        vec.append(mat[i][j])\n",
    "      if(j==L):\n",
    "        L=L+1\n",
    "        var=2\n",
    "    elif var==2:\n",
    "      if(i>U):\n",
    "        i=i-1\n",
    "        vec.append(mat[i][j])\n",
    "      if(i==U):\n",
    "        U=U+1\n",
    "        var=3\n",
    "    elif var==3:\n",
    "      if(j<R):\n",
    "        j=j+1\n",
    "        vec.append(mat[i][j])\n",
    "      if(j==R):\n",
    "        R=R-1\n",
    "        var=4\n",
    "    elif var==4:\n",
    "      if(i<D):\n",
    "        i=i+1\n",
    "        vec.append(mat[i][j])\n",
    "      if(i==D):\n",
    "        D=D-1\n",
    "        var=1\n",
    "  print(vec)\n",
    "fil= int(input(\"Filas: \"))\n",
    "col= int(input(\"Columnas: \"))\n",
    "mat=leerMatriz(fil,col)\n",
    "drawnMat(mat)\n",
    "desenvolverMat(mat)"
   ]
  },
  {
   "cell_type": "code",
   "execution_count": 14,
   "metadata": {},
   "outputs": [
    {
     "name": "stdout",
     "output_type": "stream",
     "text": [
      "Ingrese el alto: 10\n",
      "Ingrese el ancho: 15\n",
      "Ingrese el caracter: 1\n",
      "\n",
      "111111111111111\n",
      "1             1\n",
      "1             1\n",
      "1             1\n",
      "1             1\n",
      "1             1\n",
      "1             1\n",
      "1             1\n",
      "1             1\n",
      "111111111111111\n"
     ]
    }
   ],
   "source": [
    "def drawn(h,w,c):\n",
    "  print()\n",
    "  for i in range(h):\n",
    "    for j in range(w):\n",
    "      if(i==0 or i== h-1):\n",
    "        print(c,end=\"\")\n",
    "      else:\n",
    "        if(j==0 or j== w-1):\n",
    "          print(c,end=\"\")\n",
    "        else:\n",
    "          print(\" \",end=\"\")\n",
    "    print()\n",
    "h = int(input(\"Ingrese el alto: \"))\n",
    "w = int(input(\"Ingrese el ancho: \"))\n",
    "c = input(\"Ingrese el caracter: \")\n",
    "\n",
    "drawn(h,w,c)"
   ]
  },
  {
   "cell_type": "code",
   "execution_count": 15,
   "metadata": {},
   "outputs": [
    {
     "name": "stdout",
     "output_type": "stream",
     "text": [
      "Ingrese el ancho del triángulo: 20\n",
      "\n",
      "*                   \n",
      "**                  \n",
      "* *                 \n",
      "*  *                \n",
      "*   *               \n",
      "*    *              \n",
      "*     *             \n",
      "*      *            \n",
      "*       *           \n",
      "*        *          \n",
      "*         *         \n",
      "*          *        \n",
      "*           *       \n",
      "*            *      \n",
      "*             *     \n",
      "*              *    \n",
      "*               *   \n",
      "*                *  \n",
      "*                 * \n",
      "********************\n"
     ]
    }
   ],
   "source": [
    "def drawnT(w):\n",
    "  print()\n",
    "  for i in range(w):\n",
    "    for j in range(w):\n",
    "      if(i== w-1):\n",
    "        print(\"*\",end=\"\")\n",
    "      else:\n",
    "        if(j==0 or i==j):\n",
    "          print(\"*\",end=\"\")\n",
    "        else:\n",
    "          print(\" \",end=\"\")\n",
    "    print()\n",
    "\n",
    "wT = int(input(\"Ingrese el ancho del triángulo: \"))\n",
    "drawnT(wT)"
   ]
  },
  {
   "cell_type": "code",
   "execution_count": 16,
   "metadata": {},
   "outputs": [
    {
     "name": "stdout",
     "output_type": "stream",
     "text": [
      "Ingrese el año 1: 1900\n",
      "Ingrese el año 2: 2020\n",
      "Cantidad de años bisiestos entre las dos fechas:  30\n"
     ]
    }
   ],
   "source": [
    "def cantidadBisiesto(a1,a2):\n",
    "  \n",
    "  bise=0\n",
    "  if (a1<a2):\n",
    "    a=a1\n",
    "    b=a2\n",
    "  else:\n",
    "    a=a2\n",
    "    b=a1\n",
    "\n",
    "  while(a<=b):\n",
    "\n",
    "    if a % 4 == 0  and  (a % 100 != 0  or  a % 400 == 0):\n",
    "      bise=bise+1\n",
    "    a=a+1\n",
    "\n",
    "  return bise\n",
    "a1= int(input(\"Ingrese el año 1: \"))\n",
    "a2= int(input(\"Ingrese el año 2: \"))\n",
    "\n",
    "cant=cantidadBisiesto(a1,a2)\n",
    "print(\"Cantidad de años bisiestos entre las dos fechas: \", cant)"
   ]
  },
  {
   "cell_type": "code",
   "execution_count": 17,
   "metadata": {},
   "outputs": [
    {
     "name": "stdout",
     "output_type": "stream",
     "text": [
      "64+46: 110\n",
      "Bien!!!\n",
      "65+52: 117\n",
      "Bien!!!\n",
      "59+32: 91\n",
      "Bien!!!\n",
      "36+25: 61\n",
      "Bien!!!\n",
      "25+8: 33\n",
      "Bien!!!\n"
     ]
    }
   ],
   "source": [
    "import random\n",
    "def sumas():\n",
    "\n",
    "  flag=True\n",
    "  cont=0\n",
    "\n",
    "  while(flag):\n",
    "    num1=random.randint(1,100)\n",
    "    num2=random.randint(1,100)\n",
    "    \n",
    "    resp= int(input(str(num1)+\"+\"+str(num2)+\": \"))\n",
    "\n",
    "    if(num1+num2==resp):\n",
    "      print(\"Bien!!!\")\n",
    "      cont=cont+1\n",
    "    else:\n",
    "      print(\"Mal!!!\")\n",
    "    if(cont==5):\n",
    "      return\n",
    "\n",
    "def main():\n",
    "\n",
    "  sumas()\n",
    "\n",
    "main()"
   ]
  },
  {
   "cell_type": "code",
   "execution_count": null,
   "metadata": {},
   "outputs": [
    {
     "name": "stdout",
     "output_type": "stream",
     "text": [
      "Bienvenido/a al Mastermind!\n",
      "Tienes que adivinar un numero de 4 cifras distintas\n",
      "¿Que codigo propones?: 1234\n",
      "Tu propuesta ( 1234 ) tiene 1 aciertos y  1 coincidencias.\n",
      "Propón otro codigo: 1243\n",
      "Tu propuesta ( 1243 ) tiene 0 aciertos y  2 coincidencias.\n",
      "Propón otro codigo: 1432\n",
      "Tu propuesta ( 1432 ) tiene 2 aciertos y  0 coincidencias.\n",
      "Propón otro codigo: 2431\n",
      "Tu propuesta ( 2431 ) tiene 1 aciertos y  1 coincidencias.\n"
     ]
    }
   ],
   "source": [
    "import random\n",
    "\n",
    "# el conjunto de simbolos validos en el codigo\n",
    "digitos = ('0','1','2','3','4','5','6','7','8','9')\n",
    "\n",
    "# \"elegimos\" el codigo\n",
    "codigo = ''\n",
    "for i in range(4):\n",
    "    candidato = random.choice(digitos)\n",
    "    # vamos eligiendo digitos no repetidos*\n",
    "    while candidato in codigo:\n",
    "        candidato = random.choice(digitos)\n",
    "    codigo = codigo + candidato\n",
    "\n",
    "# iniciamos interaccion con el usuario*\n",
    "print(\"Bienvenido/a al Mastermind!\")\n",
    "print(\"Tienes que adivinar un numero de\", 4, \"cifras distintas\")\n",
    "propuesta = input(\"¿Que codigo propones?: \")\n",
    "\n",
    "# procesamos las propuestas e indicamos aciertos y coincidencias\n",
    "intentos = 1\n",
    "while propuesta != codigo:\n",
    "    intentos = intentos + 1\n",
    "    aciertos = 0\n",
    "    coincidencias = 0\n",
    "\n",
    "    # recorremos la propuesta y verificamos en el codigo\n",
    "    for i in range(4):\n",
    "        if propuesta[i] == codigo[i]:\n",
    "            aciertos = aciertos + 1\n",
    "        elif propuesta[i] in codigo:\n",
    "            coincidencias = coincidencias + 1\n",
    "    print (\"Tu propuesta (\", propuesta, \") tiene\", aciertos, \\\n",
    "          \"aciertos y \", coincidencias, \"coincidencias.\")\n",
    "    # pedimos siguiente propuesta*\n",
    "    propuesta = input(\"Propón otro codigo: \")\n",
    "\n",
    "print (\"Felicitaciones! Adivinaste el codigo en\", intentos, \"intentos.\")"
   ]
  },
  {
   "cell_type": "code",
   "execution_count": null,
   "metadata": {},
   "outputs": [],
   "source": []
  }
 ],
 "metadata": {
  "kernelspec": {
   "display_name": "Python 3",
   "language": "python",
   "name": "python3"
  },
  "language_info": {
   "codemirror_mode": {
    "name": "ipython",
    "version": 3
   },
   "file_extension": ".py",
   "mimetype": "text/x-python",
   "name": "python",
   "nbconvert_exporter": "python",
   "pygments_lexer": "ipython3",
   "version": "3.6.7"
  }
 },
 "nbformat": 4,
 "nbformat_minor": 2
}
